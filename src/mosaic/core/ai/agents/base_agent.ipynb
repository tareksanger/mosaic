{
 "cells": [
  {
   "cell_type": "code",
   "execution_count": 1,
   "id": "0f498bcd",
   "metadata": {},
   "outputs": [
    {
     "name": "stdout",
     "output_type": "stream",
     "text": [
      "Loading .env file from: True\n"
     ]
    }
   ],
   "source": [
    "import sys, pandas as pd; [sys.path.append('../' * i) for i in range(1,7)]\n",
    "import pprint \n",
    "import json \n",
    "from dotenv import load_dotenv\n",
    "from pydantic import BaseModel, Field, create_model\n",
    "from pydantic_ai import format_as_xml\n",
    "from securitygpt.agents.core.base_prompt import BasePromptStructure\n",
    "from securitygpt.agents.core.base_agent import AgentCreationPrompt\n",
    "from securitygpt.agents.core.base_agent import BaseAgents \n",
    "\n",
    "\n",
    "from securitygpt.agents.services.llms.chat.chat_completion_v2 import ChatCompletion as chat_complete\n",
    "\n",
    "from securitygpt.agents.services.research.tools.serp_tools import search_news, search_organic, get_objective_to_search_queries\n",
    "from securitygpt.agents.experts.search.utils.llm_search_utils import get_objective_to_search_queries\n",
    "# __file__ is not defined in Jupyter notebooks, so we'll just print the env loading\n",
    "env_path = load_dotenv()\n",
    "print(\"Loading .env file from:\", env_path)\n"
   ]
  },
  {
   "cell_type": "code",
   "execution_count": 2,
   "id": "5cf885d1",
   "metadata": {},
   "outputs": [],
   "source": [
    "topic = \"research on the topic: latest threats and campaigns in the last week\"\n",
    "function_objects = [search_news, search_organic, get_objective_to_search_queries]   \n"
   ]
  },
  {
   "cell_type": "code",
   "execution_count": 3,
   "id": "c2997407",
   "metadata": {},
   "outputs": [],
   "source": [
    "\n",
    "function_names_and_docs = \"\\n\".join([f\"{func.__name__}: {func.__doc__ or 'No documentation'}\" for func in function_objects])\n",
    "\n",
    "\n",
    "# Usage (updated)\n",
    "rules = f\"\"\" \n",
    "\"Each agent must have a simple, single-focused task and primary tool execution responsibility\",\n",
    "\"Take user query, chunk it into the smallest sub tasks possible, and assign each sub task to an agent\",\n",
    "\"Manager agent must orchestrate workflow and coordinate between agents\",\n",
    "\"Evaluator agent must assess quality and completeness of outputs\", \n",
    "\"Worker agents must execute their assigned tools and tasks effectively\",\n",
    "\"All agents must follow a clear step-by-step plan\",\n",
    "\"Each step must have a defined owner and success criteria\",\n",
    "\"Output must be structured with clear sections and subsections\",\n",
    "\"Agents must coordinate through the manager for handoffs\",\n",
    "\"The agents must be created with the following functions: {function_names_and_docs}\",\n",
    "\"You need to consider the functions and arguments when creating the agents and assign the functions along with specific arguments to the agents\"\n",
    "\n",
    "\"\"\" \n",
    "\n",
    "# New usage style\n",
    "AgentCreationPrompt = AgentCreationPrompt.build(rules=rules, job=topic)\n"
   ]
  },
  {
   "cell_type": "code",
   "execution_count": 4,
   "id": "75171400",
   "metadata": {},
   "outputs": [
    {
     "name": "stderr",
     "output_type": "stream",
     "text": [
      "INFO:securitygpt.agents.services.llms.chat.chat_completion_v2:Using model 'gemini-2.0-flash-lite' from 'google'\n",
      "INFO:securitygpt.agents.services.llms.chat.providers._google:Configuring structured output for AgentCreationPrompt\n",
      "INFO:google_genai.models:AFC is enabled with max remote calls: 10.\n",
      "INFO:httpx:HTTP Request: POST https://generativelanguage.googleapis.com/v1beta/models/gemini-2.0-flash-lite:generateContent \"HTTP/1.1 200 OK\"\n",
      "INFO:google_genai.models:AFC remote call 1 is done.\n"
     ]
    },
    {
     "name": "stdout",
     "output_type": "stream",
     "text": [
      "{'role': 'research assistant', 'job': 'research on the topic: latest threats and campaigns in the last week', 'context': 'Each agent must have a simple, single-focused task and primary tool execution responsibility. Take user query, chunk it into the smallest sub tasks possible, and assign each sub task to an agent. Manager agent must orchestrate workflow and coordinate between agents. Evaluator agent must assess quality and completeness of outputs. Worker agents must execute their assigned tools and tasks effectively. All agents must follow a clear step-by-step plan. Each step must have a defined owner and success criteria. Output must be structured with clear sections and subsections. Agents must coordinate through the manager for handoffs. The agents must be created with the following functions: search_news: this tool takes a query, limit, and num_weeks and returns a list of news article links that will have news articles from the last num_weeks weeks related to the query. Args: query: Search query string, limit: Maximum number of results (default 5), num_weeks: Number of weeks to look back (default 2). Returns: list: A list of news article links. search_organic: Search organic web results using SERP API. Args: query: Search query string, limit: Maximum number of results (default 5). Returns: Dictionary containing organic search results. get_objective_to_search_queries: this function takes a research objective and returns a list of queries to search on to learn more about the given objective. the queries are returned in the form of a list of strings. the queries are returned in the order of most relevant to least relevant. the queries are returned in the form of a list of strings.', 'rules': ['Break down the research objective into smaller, manageable tasks.', 'Assign each task to a specialized agent.', 'Utilize the provided tools effectively (search_news, search_organic, get_objective_to_search_queries).', 'The Manager Agent will orchestrate the workflow and coordinate between agents.', 'The Evaluator Agent will assess the quality and completeness of the outputs.', 'Structure the final output clearly, with sections and subsections.', 'Coordinate agent handoffs through the Manager Agent.', 'Provide a concise summary of the findings.'], 'inputs': ['User query: \"latest threats and campaigns in the last week\"'], 'outputs': ['A structured report detailing the latest threats and campaigns, including sources and a concise summary.', 'A list of search queries used to gather information.', 'A list of news article links related to the topic.'], 'good_examples': [\"The research objective is 'latest ransomware attacks'. The Manager Agent assigns the task to the Query Generation Agent. The Query Generation Agent uses the function `get_objective_to_search_queries` with the research objective. The Query Generation Agent returns a list of relevant search queries, such as 'ransomware attacks this week', 'new ransomware campaigns', 'latest ransomware news'. The Manager Agent then assigns the search queries to the News Search Agent and the Organic Search Agent. The News Search Agent uses the `search_news` tool with the search queries and other arguments. The Organic Search Agent uses the `search_organic` tool with the search queries. The Manager Agent receives the results from all agents and creates a structured report including a summary of the findings, a list of search queries used, and a list of news article links.\", \"The research objective is 'latest phishing campaigns'. The Query Generation Agent generates queries such as 'recent phishing attacks', 'new phishing campaigns', 'phishing threats'. The News Search Agent searches news articles for the generated queries using the function search_news. The Organic Search Agent searches organic web results for the generated queries using the function search_organic. The results are compiled into a structured report.\"], 'bad_examples': ['The agent fails to generate a list of search queries.', 'The agent uses an incorrect function.', 'The final output is not structured.', 'The agent provides irrelevant information.']}\n",
      "('<agent_creation_prompt>\\n'\n",
      " '  <role>research assistant</role>\\n'\n",
      " '  <job>research on the topic: latest threats and campaigns in the last '\n",
      " 'week</job>\\n'\n",
      " '  <context>Each agent must have a simple, single-focused task and primary '\n",
      " 'tool execution responsibility. Take user query, chunk it into the smallest '\n",
      " 'sub tasks possible, and assign each sub task to an agent. Manager agent must '\n",
      " 'orchestrate workflow and coordinate between agents. Evaluator agent must '\n",
      " 'assess quality and completeness of outputs. Worker agents must execute their '\n",
      " 'assigned tools and tasks effectively. All agents must follow a clear '\n",
      " 'step-by-step plan. Each step must have a defined owner and success criteria. '\n",
      " 'Output must be structured with clear sections and subsections. Agents must '\n",
      " 'coordinate through the manager for handoffs. The agents must be created with '\n",
      " 'the following functions: search_news: this tool takes a query, limit, and '\n",
      " 'num_weeks and returns a list of news article links that will have news '\n",
      " 'articles from the last num_weeks weeks related to the query. Args: query: '\n",
      " 'Search query string, limit: Maximum number of results (default 5), '\n",
      " 'num_weeks: Number of weeks to look back (default 2). Returns: list: A list '\n",
      " 'of news article links. search_organic: Search organic web results using SERP '\n",
      " 'API. Args: query: Search query string, limit: Maximum number of results '\n",
      " '(default 5). Returns: Dictionary containing organic search results. '\n",
      " 'get_objective_to_search_queries: this function takes a research objective '\n",
      " 'and returns a list of queries to search on to learn more about the given '\n",
      " 'objective. the queries are returned in the form of a list of strings. the '\n",
      " 'queries are returned in the order of most relevant to least relevant. the '\n",
      " 'queries are returned in the form of a list of strings.</context>\\n'\n",
      " '  <rules>\\n'\n",
      " '    <example>Break down the research objective into smaller, manageable '\n",
      " 'tasks.</example>\\n'\n",
      " '    <example>Assign each task to a specialized agent.</example>\\n'\n",
      " '    <example>Utilize the provided tools effectively (search_news, '\n",
      " 'search_organic, get_objective_to_search_queries).</example>\\n'\n",
      " '    <example>The Manager Agent will orchestrate the workflow and coordinate '\n",
      " 'between agents.</example>\\n'\n",
      " '    <example>The Evaluator Agent will assess the quality and completeness of '\n",
      " 'the outputs.</example>\\n'\n",
      " '    <example>Structure the final output clearly, with sections and '\n",
      " 'subsections.</example>\\n'\n",
      " '    <example>Coordinate agent handoffs through the Manager Agent.</example>\\n'\n",
      " '    <example>Provide a concise summary of the findings.</example>\\n'\n",
      " '  </rules>\\n'\n",
      " '  <inputs>\\n'\n",
      " '    <example>User query: \"latest threats and campaigns in the last '\n",
      " 'week\"</example>\\n'\n",
      " '  </inputs>\\n'\n",
      " '  <outputs>\\n'\n",
      " '    <example>A structured report detailing the latest threats and campaigns, '\n",
      " 'including sources and a concise summary.</example>\\n'\n",
      " '    <example>A list of search queries used to gather information.</example>\\n'\n",
      " '    <example>A list of news article links related to the topic.</example>\\n'\n",
      " '  </outputs>\\n'\n",
      " '  <good_examples>\\n'\n",
      " \"    <example>The research objective is 'latest ransomware attacks'. The \"\n",
      " 'Manager Agent assigns the task to the Query Generation Agent. The Query '\n",
      " 'Generation Agent uses the function `get_objective_to_search_queries` with '\n",
      " 'the research objective. The Query Generation Agent returns a list of '\n",
      " \"relevant search queries, such as 'ransomware attacks this week', 'new \"\n",
      " \"ransomware campaigns', 'latest ransomware news'. The Manager Agent then \"\n",
      " 'assigns the search queries to the News Search Agent and the Organic Search '\n",
      " 'Agent. The News Search Agent uses the `search_news` tool with the search '\n",
      " 'queries and other arguments. The Organic Search Agent uses the '\n",
      " '`search_organic` tool with the search queries. The Manager Agent receives '\n",
      " 'the results from all agents and creates a structured report including a '\n",
      " 'summary of the findings, a list of search queries used, and a list of news '\n",
      " 'article links.</example>\\n'\n",
      " \"    <example>The research objective is 'latest phishing campaigns'. The \"\n",
      " \"Query Generation Agent generates queries such as 'recent phishing attacks', \"\n",
      " \"'new phishing campaigns', 'phishing threats'. The News Search Agent searches \"\n",
      " 'news articles for the generated queries using the function search_news. The '\n",
      " 'Organic Search Agent searches organic web results for the generated queries '\n",
      " 'using the function search_organic. The results are compiled into a '\n",
      " 'structured report.</example>\\n'\n",
      " '  </good_examples>\\n'\n",
      " '  <bad_examples>\\n'\n",
      " '    <example>The agent fails to generate a list of search '\n",
      " 'queries.</example>\\n'\n",
      " '    <example>The agent uses an incorrect function.</example>\\n'\n",
      " '    <example>The final output is not structured.</example>\\n'\n",
      " '    <example>The agent provides irrelevant information.</example>\\n'\n",
      " '  </bad_examples>\\n'\n",
      " '</agent_creation_prompt>')\n"
     ]
    }
   ],
   "source": [
    "\n",
    "prompt = json.loads(chat_complete().create(user_input=topic, output_format=AgentCreationPrompt).result)\n",
    "print (prompt)\n",
    "user_prompt_xml = format_as_xml(prompt, root_tag='agent_creation_prompt')\n",
    "pprint.pprint (user_prompt_xml)"
   ]
  },
  {
   "cell_type": "code",
   "execution_count": 5,
   "id": "ca297208",
   "metadata": {},
   "outputs": [
    {
     "name": "stderr",
     "output_type": "stream",
     "text": [
      "INFO:securitygpt.agents.services.llms.chat.chat_completion_v2:Using model 'gemini-2.0-flash-lite' from 'google'\n",
      "INFO:securitygpt.agents.services.llms.chat.providers._google:Configuring structured output for BaseAgents\n",
      "INFO:google_genai.models:AFC is enabled with max remote calls: 10.\n",
      "INFO:httpx:HTTP Request: POST https://generativelanguage.googleapis.com/v1beta/models/gemini-2.0-flash-lite:generateContent \"HTTP/1.1 200 OK\"\n",
      "INFO:google_genai.models:AFC remote call 1 is done.\n"
     ]
    },
    {
     "data": {
      "text/plain": [
       "{'agents': [{'name': 'Query Generation Agent',\n",
       "   'instructions': 'Generate a list of search queries related to the research objective. These queries should be specific and relevant to uncover the latest threats and campaigns. Prioritize queries that are most likely to yield recent information.',\n",
       "   'functions': ['get_objective_to_search_queries'],\n",
       "   'reason': 'This agent is crucial for initiating the research process by identifying the most effective search terms to gather relevant information about the latest threats and campaigns.'},\n",
       "  {'name': 'News Search Agent',\n",
       "   'instructions': 'Search for news articles related to the provided queries, focusing on results from the last week. This agent will utilize the `search_news` tool to find the latest news reports on threats and campaigns.',\n",
       "   'functions': ['search_news'],\n",
       "   'reason': 'This agent is responsible for gathering timely information from news sources, which are essential for understanding the most recent threat landscape.'},\n",
       "  {'name': 'Organic Search Agent',\n",
       "   'instructions': 'Search for organic web results related to the provided queries. This agent will use the `search_organic` tool to find relevant web pages, articles, and reports to understand the current threats and campaigns.',\n",
       "   'functions': ['search_organic'],\n",
       "   'reason': 'This agent will gather information from general web resources, which is essential for understanding the current threat landscape.'}],\n",
       " 'manager_agent': {'name': 'Manager Agent',\n",
       "  'instructions': 'Orchestrate the workflow, coordinate between agents, and ensure all tasks are completed efficiently. The Manager Agent will receive search queries from the Query Generation Agent, distribute these queries to the News Search Agent and Organic Search Agent, consolidate the results, and generate a comprehensive report. The Manager Agent uses the `plan_for_next_steps` to determine the workflow and `generate_final_answer` to output a final report.',\n",
       "  'functions': ['plan_for_next_steps', 'generate_final_answer']},\n",
       " 'evaluator_agent': {'name': 'Evaluator Agent',\n",
       "  'instructions': 'Assess the quality and completeness of the final report. Ensure that the report includes a clear summary, a list of search queries, a list of news article links, and that the information is accurate and up-to-date.',\n",
       "  'evaluation_criteria': [{'evaluation_criteria': [{'criteria': 'Accuracy of Information',\n",
       "      'result': 'Pass',\n",
       "      'reason': 'The report must accurately reflect the latest threats and campaigns based on the search results.'},\n",
       "     {'criteria': 'Completeness of Information',\n",
       "      'result': 'Pass',\n",
       "      'reason': 'The report should cover a wide range of recent threats and campaigns, based on the search queries used.'},\n",
       "     {'criteria': 'Clarity and Structure',\n",
       "      'result': 'Pass',\n",
       "      'reason': 'The report must be well-organized, with a clear summary, a list of search queries, and a list of news article links.'},\n",
       "     {'criteria': 'Relevance of Sources',\n",
       "      'result': 'Pass',\n",
       "      'reason': 'The sources (news articles, web pages) cited in the report should be directly relevant to the topic of latest threats and campaigns.'},\n",
       "     {'criteria': 'Timeliness of Information',\n",
       "      'result': 'Pass',\n",
       "      'reason': 'The report should focus on threats and campaigns that have occurred within the last week.'}]}]},\n",
       " 'plan': {'plan': [{'step': \"The Manager Agent instructs the Query Generation Agent to generate search queries related to 'latest threats and campaigns in the last week'.\",\n",
       "    'reason': 'To begin the research process and identify relevant search terms.'},\n",
       "   {'step': 'The Query Generation Agent uses the `get_objective_to_search_queries` function to generate search queries. The manager then receives the queries.',\n",
       "    'reason': 'To generate search queries related to latest threats and campaigns.'},\n",
       "   {'step': 'The Manager Agent assigns the search queries to the News Search Agent and Organic Search Agent.',\n",
       "    'reason': 'To gather information from news and organic search results.'},\n",
       "   {'step': 'The News Search Agent uses the `search_news` function with the generated queries and a specified time frame (last week).',\n",
       "    'reason': 'To find news articles related to the search queries.'},\n",
       "   {'step': 'The Organic Search Agent uses the `search_organic` function with the generated queries.',\n",
       "    'reason': 'To find general web results for the search queries.'},\n",
       "   {'step': 'The Manager Agent receives results from the News Search Agent and Organic Search Agent.',\n",
       "    'reason': 'To gather all the information.'},\n",
       "   {'step': 'The Manager Agent consolidates the results and prepares a final report, including a summary of the findings, a list of the search queries used, and a list of news article links.',\n",
       "    'reason': 'To create a structured report of the findings.'},\n",
       "   {'step': 'The Evaluator Agent reviews the final report to ensure the quality and completeness of the output.',\n",
       "    'reason': 'To validate the quality and completeness of the information.'},\n",
       "   {'step': 'The Manager Agent provides the final report.',\n",
       "    'reason': 'To output the final research report.'}]}}"
      ]
     },
     "execution_count": 5,
     "metadata": {},
     "output_type": "execute_result"
    }
   ],
   "source": [
    "json.loads(chat_complete().create(user_input=str(user_prompt_xml), output_format=BaseAgents).result)\n"
   ]
  },
  {
   "cell_type": "code",
   "execution_count": null,
   "id": "6b5265ae",
   "metadata": {},
   "outputs": [],
   "source": []
  }
 ],
 "metadata": {
  "kernelspec": {
   "display_name": "Python 3",
   "language": "python",
   "name": "python3"
  },
  "language_info": {
   "codemirror_mode": {
    "name": "ipython",
    "version": 3
   },
   "file_extension": ".py",
   "mimetype": "text/x-python",
   "name": "python",
   "nbconvert_exporter": "python",
   "pygments_lexer": "ipython3",
   "version": "3.11.10"
  }
 },
 "nbformat": 4,
 "nbformat_minor": 5
}
